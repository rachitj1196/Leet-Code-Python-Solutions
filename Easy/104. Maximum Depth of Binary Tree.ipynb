{
 "cells": [
  {
   "cell_type": "code",
   "execution_count": null,
   "metadata": {},
   "outputs": [],
   "source": [
    "104. Maximum Depth of Binary Tree\n",
    "Given the root of a binary tree, return its maximum depth.\n",
    "\n",
    "A binary tree's maximum depth is the number of nodes along the longest path from the root node down to the farthest leaf node.\n",
    "\n",
    " \n",
    "\n",
    "Example 1:\n",
    "\n",
    "\n",
    "Input: root = [3,9,20,null,null,15,7]\n",
    "Output: 3\n",
    "Example 2:\n",
    "\n",
    "Input: root = [1,null,2]\n",
    "Output: 2\n",
    "Example 3:\n",
    "\n",
    "Input: root = []\n",
    "Output: 0\n",
    "Example 4:\n",
    "\n",
    "Input: root = [0]\n",
    "Output: 1\n",
    " \n",
    "\n",
    "Constraints:\n",
    "\n",
    "The number of nodes in the tree is in the range [0, 104].\n",
    "-100 <= Node.val <= 100"
   ]
  },
  {
   "cell_type": "code",
   "execution_count": null,
   "metadata": {},
   "outputs": [],
   "source": [
    "# Definition for a binary tree node.\n",
    "# class TreeNode:\n",
    "#     def __init__(self, val=0, left=None, right=None):\n",
    "#         self.val = val\n",
    "#         self.left = left\n",
    "#         self.right = right\n",
    "class Solution:\n",
    "    def maxDepth(self, root: TreeNode) -> int:\n",
    "        \n",
    "        if root is None:\n",
    "            return 0 \n",
    "        return max(self.maxDepth(root.left), self.maxDepth(root.right))+1"
   ]
  }
 ],
 "metadata": {
  "kernelspec": {
   "display_name": "Python 3",
   "language": "python",
   "name": "python3"
  },
  "language_info": {
   "codemirror_mode": {
    "name": "ipython",
    "version": 3
   },
   "file_extension": ".py",
   "mimetype": "text/x-python",
   "name": "python",
   "nbconvert_exporter": "python",
   "pygments_lexer": "ipython3",
   "version": "3.8.3"
  }
 },
 "nbformat": 4,
 "nbformat_minor": 4
}
